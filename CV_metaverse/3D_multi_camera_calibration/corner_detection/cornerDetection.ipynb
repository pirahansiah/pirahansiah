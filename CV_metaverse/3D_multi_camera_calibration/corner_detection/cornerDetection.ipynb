{
 "cells": [
  {
   "cell_type": "markdown",
   "metadata": {},
   "source": [
    "# Farshid PirahanSiah\n",
    "## Created 01.Jan.2022\n",
    "## Last Update 13.Jan.2022\n",
    "\n",
    "The first step for camera calibration is corner detection. Based on my research, the calibration pattern image play important rule in the whole calibration process.\n",
    "\n",
    "1. Camera calibration for multi-modal robot vision based on image quality assessment\n",
    "https://www.researchgate.net/profile/Farshid-Pirahansiah/publication/288174690_Camera_calibration_for_multi-modal_robot_vision_based_on_image_quality_assessment/links/5735bc2908aea45ee83c999e/Camera-calibration-for-multi-modal-robot-vision-based-on-image-quality-assessment.pdf \n",
    "\n",
    "2. Pattern image significance for camera calibration\n",
    "https://ieeexplore.ieee.org/abstract/document/8305440 \n",
    "\n",
    "3. Camera Calibration and Video Stabilization Framework for Robot Localization\n",
    "https://link.springer.com/chapter/10.1007/978-3-030-74540-0_12 \n"
   ]
  },
  {
   "cell_type": "code",
   "execution_count": 3,
   "metadata": {},
   "outputs": [
    {
     "name": "stdout",
     "output_type": "stream",
     "text": [
      "Using matplotlib backend: TkAgg\n",
      "farshid\n"
     ]
    }
   ],
   "source": [
    "import numpy as np\n",
    "import cv2\n",
    "import tqdm\n",
    "import sys\n",
    "import os\n",
    "from scipy import signal as sig\n",
    "from skimage.io import imread\n",
    "from skimage.color import rgb2gray\n",
    "import matplotlib.pyplot as plt\n",
    "from scipy import *\n",
    "from scipy.ndimage import gaussian_filter\n",
    "from IPython.display import Image\n",
    "from IPython import display\n",
    "\n",
    "sys.path.append(r'local_functions')\n",
    "#from list_files import list_files\n",
    "\n",
    "%matplotlib tk\n",
    "%matplotlib\n",
    "%matplotlib inline\n",
    "import mpld3\n",
    "from mpld3 import plugins\n",
    "mpld3.enable_notebook()\n",
    "print(\"farshid\")"
   ]
  },
  {
   "cell_type": "code",
   "execution_count": 4,
   "metadata": {},
   "outputs": [],
   "source": [
    "root_path=r'/dataSet'\n",
    "output_path=r'/output'\n",
    "\n",
    "def show_image(img):\n",
    "    width = 6#12\n",
    "    height = 6#12\n",
    "    fig=plt.figure(figsize=(width, height))    \n",
    "    plugins.connect(fig, plugins.MousePosition())\n",
    "    plt.imshow(img)\n",
    "    plt.show()\n",
    "    return 1\n",
    "\n",
    "def color_coord(image,y,x):\n",
    "    if(len(image.shape)<3):\n",
    "      print ('gray')\n",
    "      value=image[y, x]\n",
    "    elif len(image.shape)==3:\n",
    "        print ('Color(BGR)')\n",
    "        b,g,r = image[x,y,0], image[x,y,1], image[x,y,2]\n",
    "        value=(b,g,r)\n",
    "    else:\n",
    "        print ('others')\n",
    "    #value=image[y, x, c]\n",
    "    return value"
   ]
  },
  {
   "cell_type": "code",
   "execution_count": 5,
   "metadata": {},
   "outputs": [
    {
     "name": "stdout",
     "output_type": "stream",
     "text": [
      "/Users/farshid/code/pirahansiah/CV_metaverse/3D_multi_camera_calibration/corner_detection/dataSet\n"
     ]
    }
   ],
   "source": [
    "ROOT_DIR = os.path.dirname(os.path.abspath(\"__file__\")) #os.path.dirname(os.path.abspath(__file__))\n",
    "FILE_PATH = os.path.join(ROOT_DIR+ root_path)\n",
    "print(FILE_PATH)"
   ]
  },
  {
   "cell_type": "code",
   "execution_count": 6,
   "metadata": {},
   "outputs": [],
   "source": [
    "fileName=FILE_PATH+\"/chessboard1.png\"\n",
    "img_main = cv2.imread(fileName,-1)\n",
    "img_src= img_main.copy()\n",
    "if len(img_main.shape)==3:\n",
    "    gray_img=cv2.cvtColor(img_src, cv2.COLOR_BGR2GRAY) \n",
    "else:\n",
    "    gray_img=img_src.copy()\n",
    "# see the results\n",
    "imageShow=img_src.copy()\n",
    "if len(img_main.shape)==3:\n",
    "    pass \n",
    "else:\n",
    "    imageShow=cv2.cvtColor(imageShow,cv2.COLOR_GRAY2RGB)\n",
    "# cid=show_image(imageShow)\n",
    "# value=color_coord(imageShow,280,340)\n",
    "# print(value)"
   ]
  },
  {
   "cell_type": "code",
   "execution_count": null,
   "metadata": {},
   "outputs": [],
   "source": []
  },
  {
   "cell_type": "code",
   "execution_count": null,
   "metadata": {},
   "outputs": [],
   "source": []
  }
 ],
 "metadata": {
  "interpreter": {
   "hash": "cd3c596a536178b2255a633d10731289cd27662e69c126ee52a34f23e6512c66"
  },
  "kernelspec": {
   "display_name": "Python 3.8.5 64-bit ('d2go': conda)",
   "language": "python",
   "name": "python3"
  },
  "language_info": {
   "codemirror_mode": {
    "name": "ipython",
    "version": 3
   },
   "file_extension": ".py",
   "mimetype": "text/x-python",
   "name": "python",
   "nbconvert_exporter": "python",
   "pygments_lexer": "ipython3",
   "version": "3.8.5"
  },
  "orig_nbformat": 4
 },
 "nbformat": 4,
 "nbformat_minor": 2
}
